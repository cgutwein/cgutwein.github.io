{
 "cells": [
  {
   "cell_type": "markdown",
   "metadata": {},
   "source": [
    "# What is the 20-80 scouting scale?\n",
    "While a lot of things in baseball have changed in recent years, some have stayed exactly the same. Baseball scouts have used the 20-80 scale to evaluate players tools for decades. The idea behind the scale is that a score of 50 indicates league average. These *grades* apply to both tools and an overall scouting grade for each player. Furthermore, player evaluators will typically assign a player a *current* value and a *future* value, hence the name of the recent book on the subject by Eric Longenhagen and Kiley McDaniel.\n",
    "\n",
    "The question we pose cuts a little deeper however. In this post, we'll describe in detail the 20-80 scale and how we can use Statcast data to define the scale for several tools. In addition, we'll investigate how much scouting can be done from behind a computer vs. actually being present at games to see players in live action."
   ]
  },
  {
   "cell_type": "code",
   "execution_count": 1,
   "metadata": {},
   "outputs": [],
   "source": [
    "import numpy as np\n",
    "import pandas as pd\n",
    "import matplotlib.pyplot as plt\n",
    "%matplotlib inline"
   ]
  },
  {
   "cell_type": "code",
   "execution_count": 2,
   "metadata": {},
   "outputs": [],
   "source": [
    "df = pd.read_csv('../../blog_posts/statcast_pitches_2019.csv')"
   ]
  },
  {
   "cell_type": "markdown",
   "metadata": {},
   "source": [
    "## Hitter Tools\n",
    "The main tools that are evaluated for position player prospects (i.e. hitters) are contact (or hit), power, speed, arm strength, and ??. Power is especially significant in today's game, as the home run has been identified as the single most impactful result a hitter can have. Thus, power is typically evaluated a two seperate tools: *raw power* and *game power*. We've previously discussed the relationship of *launch angle* and *exit velocity* with hitting home runs. The measure for *raw power* is the maximum exit velocity that a hitter can generate. So let's look at the player tier for maximum exit velocity in 2019 using Statcast data."
   ]
  },
  {
   "cell_type": "code",
   "execution_count": 5,
   "metadata": {},
   "outputs": [
    {
     "ename": "NameError",
     "evalue": "name 'dfGroupedMaxEV_' is not defined",
     "output_type": "error",
     "traceback": [
      "\u001b[1;31m---------------------------------------------------------------------------\u001b[0m",
      "\u001b[1;31mNameError\u001b[0m                                 Traceback (most recent call last)",
      "\u001b[1;32m<ipython-input-5-903efcd28c6e>\u001b[0m in \u001b[0;36m<module>\u001b[1;34m()\u001b[0m\n\u001b[0;32m      1\u001b[0m \u001b[0mdfGroupedMaxEV\u001b[0m \u001b[1;33m=\u001b[0m \u001b[0mdf\u001b[0m\u001b[1;33m.\u001b[0m\u001b[0mgroupby\u001b[0m\u001b[1;33m(\u001b[0m\u001b[1;33m[\u001b[0m\u001b[1;34m'batter'\u001b[0m\u001b[1;33m]\u001b[0m\u001b[1;33m)\u001b[0m\u001b[1;33m.\u001b[0m\u001b[0mmax\u001b[0m\u001b[1;33m(\u001b[0m\u001b[1;33m)\u001b[0m\u001b[1;33m\u001b[0m\u001b[0m\n\u001b[0;32m      2\u001b[0m \u001b[1;31m#dfGroupedMaxEV['launch_speed'].hist(bins=25)\u001b[0m\u001b[1;33m\u001b[0m\u001b[1;33m\u001b[0m\u001b[0m\n\u001b[1;32m----> 3\u001b[1;33m \u001b[0mdfGroupedMaxEV_\u001b[0m\u001b[1;33m.\u001b[0m\u001b[0mhist\u001b[0m\u001b[1;33m(\u001b[0m\u001b[0mbins\u001b[0m\u001b[1;33m=\u001b[0m\u001b[1;36m25\u001b[0m\u001b[1;33m)\u001b[0m\u001b[1;33m\u001b[0m\u001b[0m\n\u001b[0m",
      "\u001b[1;31mNameError\u001b[0m: name 'dfGroupedMaxEV_' is not defined"
     ]
    }
   ],
   "source": [
    "dfGroupedMaxEV = df.groupby(['batter']).max()\n",
    "#dfGroupedMaxEV['launch_speed'].hist(bins=25)\n",
    "dfGroupedMaxEV_.hist(bins=25)"
   ]
  },
  {
   "cell_type": "code",
   "execution_count": 28,
   "metadata": {},
   "outputs": [
    {
     "data": {
      "image/png": "[encoded data removed]",
      "text/plain": [
       "<Figure size 576x432 with 1 Axes>"
      ]
     },
     "metadata": {},
     "output_type": "display_data"
    }
   ],
   "source": [
    "# Bar chart - launch angle by result \n",
    "# Setting FiveThirtyEight style\n",
    "plt.style.use('fivethirtyeight')\n",
    "\n",
    "# Setting size of our plot\n",
    "fig, ax = plt.subplots(figsize=(8,6))\n",
    "\n",
    "ax1 = dfGroupedMaxEV_.hist(bins=25)\n",
    "\n",
    "# Y axis past 0 & above 100 -- grid line will pass 0 & 100 marker\n",
    "plt.ylim(-5,70)\n",
    "\n",
    "# Bolded horizontal line at y=0\n",
    "#ax1.axhline(y=0, color='#414141', linewidth=1.5, alpha=.5)\n",
    "\n",
    "# Y-labels to only these\n",
    "#ax.set_yticks([0, 10000,20000, 30000, 40000])\n",
    "#ax.set_yticklabels(labels=['0', '10000', '20000', '30000', '40000'], fontsize=14, color='#414141')\n",
    "\n",
    "# X-labels and changing label names\n",
    "#ax.set_xticklabels(['Out', 'Single', 'Double', 'Triple','Homer'],fontsize=14, color='#414141')\n",
    "\n",
    "# Title text\n",
    "ax.text(x=97, y=77, s=\"Exit Velocity 2019\", fontsize=18.5, fontweight='semibold', color='#414141')\n",
    "\n",
    "# Subtitle text\n",
    "ax.text(x=97, y=73, s='Histogram for MLB hitters in 2019', fontsize=16.5, color='#414141')\n",
    "\n",
    "ax.set_ylabel('')    \n",
    "ax.set_xlabel('')\n",
    "\n",
    "# legend\n",
    "#ax.legend([\"< 10 degree launch angle\", \"> 10 degree launch angle\"], loc=7)\n",
    "\n",
    "# Line at bottom for signature line\n",
    "ax1.text(x = 97, y = -13,\n",
    "    s = '   ©Chet Gutwein                                                     Source: Baseball Savant   ',\n",
    "    fontsize = 14, color = '#f0f0f0', backgroundcolor = '#414141');\n",
    "\n",
    "plt.savefig('ev_2019_hist.png')"
   ]
  },
  {
   "cell_type": "markdown",
   "metadata": {},
   "source": [
    "Above we have the plotted histogram of maximum exit velocity from a hitter in 2019. Please note that we have filtered results to include only maximum launch speeds greater than or equal to 100 mph because there are so few results lower than 100. Also, results for pitchers are filtered out as well. Calculating the 20-80 scale is really quite easy. We'll use the mean, $\\mu$ and the standard deviation, $\\sigma$ to determine the range for each grade in raw power based on a player's maximum exit velocity."
   ]
  },
  {
   "cell_type": "code",
   "execution_count": 8,
   "metadata": {},
   "outputs": [
    {
     "name": "stdout",
     "output_type": "stream",
     "text": [
      "109 3\n"
     ]
    }
   ],
   "source": [
    "dfGroupedMaxEV_ = dfGroupedMaxEV[(dfGroupedMaxEV['launch_speed'] >=100) & (dfGroupedMaxEV['POS'] != \"P\")]['launch_speed']\n",
    "mu = int(dfGroupedMaxEV_.mean())\n",
    "sigma = int(dfGroupedMaxEV_.std())\n",
    "print(mu, sigma)"
   ]
  },
  {
   "cell_type": "markdown",
   "metadata": {},
   "source": [
    "The average maximum exit velocity generated by a player is 109 mph with a standard deviation of 3 mph. Applying the principles of the 20-80 scale, this makes a player with a maximum of 112 mph a 60 and a player with a 106 mph a 40. We'll make use of interpolation to map a hitter's maximum exit velocity to their **raw power** grade on the 20-80 scale."
   ]
  },
  {
   "cell_type": "code",
   "execution_count": 9,
   "metadata": {},
   "outputs": [
    {
     "data": {
      "text/plain": [
       "array(50.)"
      ]
     },
     "execution_count": 9,
     "metadata": {},
     "output_type": "execute_result"
    }
   ],
   "source": [
    "from scipy.interpolate import interp1d\n",
    "scaled = interp1d([mu-3*sigma, mu+3*sigma], [20,80], bounds_error=False, fill_value=20)\n",
    "scaled(mu)"
   ]
  },
  {
   "cell_type": "code",
   "execution_count": 10,
   "metadata": {},
   "outputs": [],
   "source": [
    "EV_grades = dfGroupedMaxEV_.apply(scaled)"
   ]
  },
  {
   "cell_type": "code",
   "execution_count": 11,
   "metadata": {},
   "outputs": [
    {
     "data": {
      "text/plain": [
       "80.0"
      ]
     },
     "execution_count": 11,
     "metadata": {},
     "output_type": "execute_result"
    }
   ],
   "source": [
    "EV_grades.max()"
   ]
  },
  {
   "cell_type": "code",
   "execution_count": 12,
   "metadata": {},
   "outputs": [],
   "source": [
    "dfGroupedMaxEV['EV_grade'] = EV_grades"
   ]
  },
  {
   "cell_type": "code",
   "execution_count": 3,
   "metadata": {},
   "outputs": [
    {
     "data": {
      "text/plain": [
       "('CC Sabathia', 'P')"
      ]
     },
     "execution_count": 3,
     "metadata": {},
     "output_type": "execute_result"
    }
   ],
   "source": [
    "## loading player Id map, use PLAYERNAME and \n",
    "df_ids = pd.read_csv('../../mlb/data/PLAYERIDMAP.csv')\n",
    "id_list = list(df_ids['MLBID'])\n",
    "\n",
    "def get_player_name(pid, ref=\"MLB\"):\n",
    "    ref_dict = {\n",
    "        \"MLB\": \"MLBID\"\n",
    "    }\n",
    "    \n",
    "    rid = ref_dict[ref]\n",
    "    id_list = list(df_ids[rid])\n",
    "    if pid not in id_list:\n",
    "        batter_name = '--'\n",
    "        pos = '--'\n",
    "    else:\n",
    "        batter_name = df_ids[df_ids[rid] == pid]['PLAYERNAME'].values[0]\n",
    "        pos = df_ids[df_ids[rid] == pid]['POS'].values[0]\n",
    "    return(batter_name, pos)\n",
    "\n",
    "get_player_name(282332)"
   ]
  },
  {
   "cell_type": "code",
   "execution_count": 5,
   "metadata": {},
   "outputs": [
    {
     "data": {
      "text/plain": [
       "'CC Sabathia'"
      ]
     },
     "execution_count": 5,
     "metadata": {},
     "output_type": "execute_result"
    }
   ],
   "source": [
    "get_player_name(282332)[0]"
   ]
  },
  {
   "cell_type": "code",
   "execution_count": 7,
   "metadata": {},
   "outputs": [],
   "source": [
    "hitter_ids = dfGroupedMaxEV.index\n",
    "#dfGroupedMaxEV['batter_name'] = hitter_ids.apply()\n",
    "dfGroupedMaxEV['batter_name'] = pd.Series({x: get_player_name(x)[0] for x in dfGroupedMaxEV.index})\n",
    "dfGroupedMaxEV['POS'] = pd.Series({x: get_player_name(x)[1] for x in dfGroupedMaxEV.index})\n",
    "#pd.Series(index.map(myfunc), name=index.name)"
   ]
  },
  {
   "cell_type": "code",
   "execution_count": 14,
   "metadata": {},
   "outputs": [],
   "source": [
    "dfGroupedMaxEV[['batter_name', 'POS','launch_speed', 'EV_grade']].head(6).to_html(buf='./table1.html',index=False)"
   ]
  },
  {
   "cell_type": "markdown",
   "metadata": {},
   "source": [
    "### Max EV Table\n",
    "We ran the 80-20 scale for maximum exit velocity in the 2019 MLB season, here is the range with some random player examples for each category."
   ]
  },
  {
   "cell_type": "code",
   "execution_count": 15,
   "metadata": {},
   "outputs": [],
   "source": [
    "from pynverse import inversefunc\n",
    "from numpy import random\n",
    "\n",
    "def make_8020_table(scoutField, valField, df):\n",
    "    \"\"\"\n",
    "    Create an html table summarizing 80-20 scale.\n",
    "    \n",
    "    Inputs:\n",
    "    1: scoutField: string of column name for scouting grade value,\n",
    "    2: valField: string of column name for measurable value,\n",
    "    3: df: dataframe of players\n",
    "    \n",
    "    Outputs:\n",
    "    1: html_table: string containing html code for table summarizing as follows\n",
    "    \n",
    "    \n",
    "    | Scouting Grade | Cutpoint Value | Example players |\n",
    "    ...\n",
    "    \n",
    "    \"\"\"\n",
    "    dict_8020 = dict()\n",
    "    for grade in [20, 25, 30, 35, 40, 45, 50, 55, 60, 65, 70, 75, 80]:\n",
    "        l = grade - 2.5\n",
    "        u = grade + 2.5\n",
    "        df_sub = df[(df[scoutField] >= l) & (df[scoutField] < u)]\n",
    "        if len(df_sub) >= 2:\n",
    "            #print(l, u, len(df_sub))\n",
    "            cut = df_sub[valField].min()\n",
    "            players = random.choice(df_sub['batter_name'], size=2, replace=False)\n",
    "            p1 = players[0] + \"(\" + str(df_sub[df_sub['batter_name'] == players[0]][valField].values[0]) + \")\"\n",
    "            p2 = players[1] + \"(\" + str(df_sub[df_sub['batter_name'] == players[1]][valField].values[0]) + \")\"\n",
    "            dict_8020[grade] = {'Scouting Grade': grade, 'Cutpoint Value': cut, 'Example Players': p1+ \", \" + p2}\n",
    "    df_8020 = pd.DataFrame.from_dict(dict_8020, orient='index').sort_values('Scouting Grade', ascending=False)\n",
    "    df_8020 = df_8020[['Scouting Grade', 'Cutpoint Value', 'Example Players']]\n",
    "    \n",
    "    return(df_8020.to_html(buf='./table2.html',index=False))"
   ]
  },
  {
   "cell_type": "code",
   "execution_count": 16,
   "metadata": {},
   "outputs": [],
   "source": [
    "make_8020_table('EV_grade', 'launch_speed', dfGroupedMaxEV)\n",
    "#EV_table"
   ]
  },
  {
   "cell_type": "code",
   "execution_count": 22,
   "metadata": {},
   "outputs": [
    {
     "name": "stdout",
     "output_type": "stream",
     "text": [
      "Nolan Arenado 53.00000000000002\n",
      "Charlie Blackmon 55.99999999999999\n",
      "Trevor Story 59.33333333333333\n"
     ]
    }
   ],
   "source": [
    "for p in ['Nolan Arenado', 'Charlie Blackmon', 'Trevor Story']:\n",
    "    ev = dfGroupedMaxEV[dfGroupedMaxEV['batter_name'] == p]['EV_grade'].values[0]\n",
    "    print(p, ev)"
   ]
  }
 ],
 "metadata": {
  "anaconda-cloud": {},
  "kernelspec": {
   "display_name": "Python [default]",
   "language": "python",
   "name": "python3"
  },
  "language_info": {
   "codemirror_mode": {
    "name": "ipython",
    "version": 3
   },
   "file_extension": ".py",
   "mimetype": "text/x-python",
   "name": "python",
   "nbconvert_exporter": "python",
   "pygments_lexer": "ipython3",
   "version": "3.5.5"
  }
 },
 "nbformat": 4,
 "nbformat_minor": 2
}
